{
 "cells": [
  {
   "cell_type": "code",
   "execution_count": 6,
   "id": "fae078d8",
   "metadata": {},
   "outputs": [
    {
     "name": "stdout",
     "output_type": "stream",
     "text": [
      "10\n",
      "9\n",
      "8\n",
      "7\n",
      "6\n",
      "5\n",
      "4\n",
      "3\n",
      "2\n",
      "1\n",
      "BOOM!\n"
     ]
    }
   ],
   "source": [
    "def boom(n): \n",
    "    for i in range(n,0,-1):\n",
    "        print(f'{i}')\n",
    "    print(\"BOOM!\")    \n",
    "boom(10)"
   ]
  },
  {
   "cell_type": "code",
   "execution_count": 7,
   "id": "8a008133",
   "metadata": {},
   "outputs": [],
   "source": [
    "a = [0,1,2,3,4,5]"
   ]
  },
  {
   "cell_type": "code",
   "execution_count": 8,
   "id": "e2a3f5f6",
   "metadata": {},
   "outputs": [
    {
     "name": "stdout",
     "output_type": "stream",
     "text": [
      "[0, 1, 2, 3, 4, 5]\n"
     ]
    }
   ],
   "source": [
    "print(a)"
   ]
  },
  {
   "cell_type": "code",
   "execution_count": 9,
   "id": "30b09a24",
   "metadata": {},
   "outputs": [],
   "source": [
    "a[2] = -1"
   ]
  },
  {
   "cell_type": "code",
   "execution_count": 10,
   "id": "99c86898",
   "metadata": {},
   "outputs": [
    {
     "name": "stdout",
     "output_type": "stream",
     "text": [
      "0\n",
      "1\n",
      "-1\n",
      "3\n",
      "4\n",
      "5\n"
     ]
    }
   ],
   "source": [
    "for i in a:\n",
    "    print(i)"
   ]
  },
  {
   "cell_type": "code",
   "execution_count": 12,
   "id": "173cf3ae",
   "metadata": {},
   "outputs": [
    {
     "name": "stdout",
     "output_type": "stream",
     "text": [
      "<class 'list'>\n",
      "10\n",
      "9\n",
      "8\n",
      "7\n",
      "6\n",
      "5\n",
      "4\n",
      "3\n",
      "2\n",
      "1\n",
      "BOOM!\n"
     ]
    }
   ],
   "source": [
    "def the_new_boom(n):\n",
    "    \n",
    "    def make_a_list(n):\n",
    "        return [10,9,8,7,6,5,4,3,2,1]\n",
    "    def print_them_all(the_list):\n",
    "        print(f'{type(the_list)}')\n",
    "        for element in the_list:\n",
    "            print(element)\n",
    "    the_list = make_a_list(n)\n",
    "    print_them_all(the_list)\n",
    "    print(\"BOOM!\")\n",
    "    \n",
    "the_new_boom(10)"
   ]
  },
  {
   "cell_type": "code",
   "execution_count": 14,
   "id": "72c1a029",
   "metadata": {},
   "outputs": [
    {
     "name": "stdout",
     "output_type": "stream",
     "text": [
      "[0, 1, 4, 9, 16, 25, 36, 49, 64, 81]\n"
     ]
    }
   ],
   "source": [
    "squares = [x**2 for x in range(10)]\n",
    "print(squares)"
   ]
  },
  {
   "cell_type": "code",
   "execution_count": 34,
   "id": "758cf9c4",
   "metadata": {},
   "outputs": [
    {
     "name": "stdout",
     "output_type": "stream",
     "text": [
      "\tlocal: {'the_list': [10, 9, 8, 7, 6, 5, 4, 3, 2, 1]}\n",
      "10\n",
      "\tlocal: {'the_list': [9, 8, 7, 6, 5, 4, 3, 2, 1]}\n",
      "9\n",
      "\tlocal: {'the_list': [8, 7, 6, 5, 4, 3, 2, 1]}\n",
      "8\n",
      "\tlocal: {'the_list': [7, 6, 5, 4, 3, 2, 1]}\n",
      "7\n",
      "\tlocal: {'the_list': [6, 5, 4, 3, 2, 1]}\n",
      "6\n",
      "\tlocal: {'the_list': [5, 4, 3, 2, 1]}\n",
      "5\n",
      "\tlocal: {'the_list': [4, 3, 2, 1]}\n",
      "4\n",
      "\tlocal: {'the_list': [3, 2, 1]}\n",
      "3\n",
      "\tlocal: {'the_list': [2, 1]}\n",
      "2\n",
      "\tlocal: {'the_list': [1]}\n",
      "1\n",
      "\tlocal: {'the_list': []}\n",
      "BOOM!\n"
     ]
    }
   ],
   "source": [
    "def boom_recursive(the_list):\n",
    "    print(f'\\tlocal: {locals()}')\n",
    "    if len(the_list)>0:          \n",
    "        print(the_list[0])           \n",
    "        boom_recursive(the_list[1:])  \n",
    "    else:\n",
    "        print('BOOM!')\n",
    "    \n",
    "boom_recursive([i for i in range(10,0,-1)])\n",
    "        "
   ]
  },
  {
   "cell_type": "code",
   "execution_count": 28,
   "id": "50907e17",
   "metadata": {},
   "outputs": [
    {
     "data": {
      "text/plain": [
       "[10, 8, 6, 4, 2]"
      ]
     },
     "execution_count": 28,
     "metadata": {},
     "output_type": "execute_result"
    }
   ],
   "source": [
    "[i for i in range(10,0,-2)]"
   ]
  },
  {
   "cell_type": "code",
   "execution_count": 9,
   "id": "fb0ab73b",
   "metadata": {},
   "outputs": [
    {
     "name": "stdout",
     "output_type": "stream",
     "text": [
      "correct!\n"
     ]
    }
   ],
   "source": [
    "def gcd(a,b):\n",
    "    if a < b:\n",
    "         a , b = b , a \n",
    "    if a < 0:\n",
    "        a = -a\n",
    "    if b < 0:\n",
    "        b = -b\n",
    "    if b == 0:\n",
    "        return a\n",
    "    k = a//b\n",
    "    return gcd(a-k*b,b)\n",
    "    \n",
    "\n",
    "test = [(1,1,1),(3,5,1),(2,4,2),(15,5,5),(21,15,3)]\n",
    "\n",
    "def test_gcd(test):\n",
    "    correct = 0\n",
    "    for t in test:\n",
    "        if gcd(t[0],t[1])==t[2]:\n",
    "            correct += 1\n",
    "    return correct==len(test)\n",
    "\n",
    "if test_gcd(test):\n",
    "    print('correct!')\n",
    "else:\n",
    "    print('fix my broken code')"
   ]
  },
  {
   "cell_type": "code",
   "execution_count": 56,
   "id": "698527bd",
   "metadata": {},
   "outputs": [
    {
     "name": "stdout",
     "output_type": "stream",
     "text": [
      "29\n",
      "correct!\n"
     ]
    }
   ],
   "source": [
    "def count_the_vowels(s):\n",
    "    count = 0\n",
    "    for a in s:\n",
    "        if a in 'aeiou':\n",
    "            count +=1\n",
    "    print(count)\n",
    "    return count\n",
    "   \n",
    "text = \"The world will little note, nor long remember what we say here, but it can never forget what they did here.\"\n",
    "\n",
    "def test_count_the_vowels():\n",
    "    if count_the_vowels(text)==29:\n",
    "        print(\"correct!\")\n",
    "    else:\n",
    "        print(\"broken!\")\n",
    "\n",
    "test_count_the_vowels()"
   ]
  },
  {
   "cell_type": "code",
   "execution_count": null,
   "id": "fef43554",
   "metadata": {},
   "outputs": [],
   "source": []
  },
  {
   "cell_type": "code",
   "execution_count": 55,
   "id": "c7b39242",
   "metadata": {},
   "outputs": [
    {
     "name": "stdout",
     "output_type": "stream",
     "text": [
      "[1, 2, 3, 4, 5, 6, 9]\n",
      "correct!\n"
     ]
    }
   ],
   "source": [
    "def list_uniq(l_in):\n",
    "    l_s = sorted(l_in)\n",
    "    l_out = [l_s[0]]\n",
    "    for ele in l_s:\n",
    "        if ele != l_out[-1]:\n",
    "            l_out.append(ele)\n",
    "    print(l_out)\n",
    "    return l_out\n",
    "    \n",
    "def test_list_uniq():\n",
    "    l_in = [3,2,6,4,1,5,4,4,1,3,5,6,9]\n",
    "    ans = [1, 2, 3, 4, 5, 6, 9]\n",
    "    if ans == list_uniq(l_in):\n",
    "        print(\"correct!\")\n",
    "    else:\n",
    "        print(\"broken!\")\n",
    "\n",
    "test_list_uniq()"
   ]
  },
  {
   "cell_type": "code",
   "execution_count": 164,
   "id": "eb297084",
   "metadata": {},
   "outputs": [
    {
     "name": "stdout",
     "output_type": "stream",
     "text": [
      "completed succesfully\n",
      "\n",
      "already sorted\n",
      "selection_sort: entered (verbose on)\n"
     ]
    },
    {
     "data": {
      "text/plain": [
       "True"
      ]
     },
     "execution_count": 164,
     "metadata": {},
     "output_type": "execute_result"
    }
   ],
   "source": [
    "def is_inorder(a,n):\n",
    "    # return True or False if the first n elements of array a are in ascending order\n",
    "    for i in range(n-1):\n",
    "        if a[i]>a[i+1]:\n",
    "            return False\n",
    "    return True\n",
    "\n",
    "\n",
    "def is_smallest_elements(a,n):\n",
    "    # return True False if the largest number among the first n is no larger than any\n",
    "    # of the remaining elments in a, a[n+1:].\n",
    "    # NOTE: if applied in the presence of is_inorder(a,n), then a[n-1] is the largest of the first n\n",
    "    for i in range(n,len(a)):\n",
    "        if a[n-1]>a[i]:\n",
    "            return False\n",
    "    return True\n",
    "\n",
    "    \n",
    "    # return True False if the largest number among the first n is no larger than any\n",
    "    # of the remaining elments in a, a[n+1:].\n",
    "    # NOTE: if applied in the presence of is_inorder(a,n), then a[n-1] is the largest of the first n\n",
    "\n",
    "\n",
    "def selection_sort(a, verbose=False):\n",
    "    n = len(a)\n",
    "    if verbose:\n",
    "        print(f'selection_sort: entered (verbose on)')\n",
    "        \n",
    "    def find_min_by_index(a,k):\n",
    "        r = k+1\n",
    "        for i in range(r, len(a)):\n",
    "            if a[i]<a[k]:\n",
    "                k = i\n",
    "        return k\n",
    "    k = find_min_by_index(a,0)\n",
    "    a[0],a[k] = a[k],a[0]\n",
    "    \n",
    "    assert is_inorder(a,1)\n",
    "    assert is_smallest_elements(a,1)\n",
    "    \n",
    "    # set up LI .. get it started \n",
    "    # LI\n",
    "    for i in range(1, len(a)):\n",
    "        if verbose and (not (is_inorder(a,i+1) and is_smallest_elements(a,i+1))):\n",
    "            print(f'\\tat {i} violated')\n",
    "        k = find_min_by_index(a,i)\n",
    "        a[i],a[k] = a[k],a[i]\n",
    "                        \n",
    "        assert is_inorder(a,i+1)\n",
    "        assert is_smallest_elements(a,i+1)\n",
    "        \n",
    "    return a\n",
    "    \n",
    "     # this is cheating! \n",
    "\n",
    "import random \n",
    "\n",
    "a = [i for i in range(89)]\n",
    "for trial in range(10):\n",
    "    random.shuffle(a)\n",
    "    a_orig = a[:]\n",
    "    selection_sort(a)\n",
    "    assert a==sorted(a_orig)\n",
    "        \n",
    "print('completed succesfully')\n",
    "\n",
    "# an already sorted array should have not violations\n",
    "\n",
    "a = [i for i in range(100)]\n",
    "print(f'\\nalready sorted')\n",
    "selection_sort(a,verbose=True)\n",
    "True"
   ]
  },
  {
   "cell_type": "code",
   "execution_count": 57,
   "id": "fa87f778",
   "metadata": {},
   "outputs": [
    {
     "name": "stdout",
     "output_type": "stream",
     "text": [
      "[0, 1, 2, 3, 4, 5, 6]\n"
     ]
    }
   ],
   "source": [
    "a = [i for i in range(7)]\n",
    "print(a)"
   ]
  },
  {
   "cell_type": "code",
   "execution_count": 58,
   "id": "998da187",
   "metadata": {},
   "outputs": [],
   "source": [
    "b = a[0:2]"
   ]
  },
  {
   "cell_type": "code",
   "execution_count": 59,
   "id": "6f6439b8",
   "metadata": {},
   "outputs": [
    {
     "name": "stdout",
     "output_type": "stream",
     "text": [
      "[0, 1]\n"
     ]
    }
   ],
   "source": [
    "print(b)"
   ]
  },
  {
   "cell_type": "code",
   "execution_count": 60,
   "id": "10ecfd3b",
   "metadata": {},
   "outputs": [
    {
     "name": "stdout",
     "output_type": "stream",
     "text": [
      "[0, 1, 2, 3, 4, 5, 6] [0, 3]\n"
     ]
    }
   ],
   "source": [
    "b[1] = 3\n",
    "print(a,b)"
   ]
  },
  {
   "cell_type": "code",
   "execution_count": 61,
   "id": "e9903a40",
   "metadata": {},
   "outputs": [
    {
     "data": {
      "text/plain": [
       "[0, 1, 2, 3, 4, 5, 6]"
      ]
     },
     "execution_count": 61,
     "metadata": {},
     "output_type": "execute_result"
    }
   ],
   "source": [
    "a[:]"
   ]
  },
  {
   "cell_type": "code",
   "execution_count": 62,
   "id": "af10f190",
   "metadata": {},
   "outputs": [],
   "source": [
    "b  = a[:]"
   ]
  },
  {
   "cell_type": "code",
   "execution_count": 63,
   "id": "4d61a722",
   "metadata": {},
   "outputs": [
    {
     "name": "stdout",
     "output_type": "stream",
     "text": [
      "[0, 1, 2, 3, 4, 5, 6]\n"
     ]
    }
   ],
   "source": [
    "print(b)"
   ]
  },
  {
   "cell_type": "code",
   "execution_count": 64,
   "id": "1a1560f0",
   "metadata": {},
   "outputs": [
    {
     "name": "stdout",
     "output_type": "stream",
     "text": [
      "[0, 1, 2, 3, 4, 5, 6] [0, 3, 2, 3, 4, 5, 6]\n"
     ]
    }
   ],
   "source": [
    "b[1] = 3\n",
    "print(a,b)"
   ]
  },
  {
   "cell_type": "code",
   "execution_count": 81,
   "id": "ab73d469",
   "metadata": {},
   "outputs": [
    {
     "name": "stdout",
     "output_type": "stream",
     "text": [
      "[[1], [2], [3]]\n"
     ]
    }
   ],
   "source": [
    "a = [ [1], [2], [3]]\n",
    "print(a)"
   ]
  },
  {
   "cell_type": "code",
   "execution_count": 82,
   "id": "28c7b436",
   "metadata": {},
   "outputs": [
    {
     "name": "stdout",
     "output_type": "stream",
     "text": [
      "[[1], [2], [3]] [[1], [2], [3]]\n"
     ]
    }
   ],
   "source": [
    "b = a[:]\n",
    "print(a,b)"
   ]
  },
  {
   "cell_type": "code",
   "execution_count": 83,
   "id": "37c96844",
   "metadata": {},
   "outputs": [
    {
     "name": "stdout",
     "output_type": "stream",
     "text": [
      "[[1], [2], [3]]\n"
     ]
    }
   ],
   "source": [
    "print(a)"
   ]
  },
  {
   "cell_type": "code",
   "execution_count": 84,
   "id": "d29637e0",
   "metadata": {},
   "outputs": [
    {
     "name": "stdout",
     "output_type": "stream",
     "text": [
      "[[1], [2], [3]]\n"
     ]
    }
   ],
   "source": [
    "print(b)"
   ]
  },
  {
   "cell_type": "code",
   "execution_count": 85,
   "id": "e6ef498e",
   "metadata": {},
   "outputs": [
    {
     "name": "stdout",
     "output_type": "stream",
     "text": [
      "[[1], [2], [3]]\n"
     ]
    }
   ],
   "source": [
    "print(a)"
   ]
  },
  {
   "cell_type": "code",
   "execution_count": 147,
   "id": "5ffbff2a",
   "metadata": {},
   "outputs": [],
   "source": [
    "# fix my broken code!\n",
    "\n",
    "def max_interval(a):\n",
    "    n = len(a) \n",
    "    for i in range(n):\n",
    "        for j in range(i,n):\n",
    "            max_v = sum(a[i:j+1])\n",
    "            print(i,j,max_v)\n",
    "    return max_v\n",
    "    m = len(max_v)\n",
    "    return max(m)\n",
    "\n",
    "def max_interval_dyn(a):\n",
    "    \"\"\"\n",
    "    m array: m[i] is the max sum of a[j:i+1],\n",
    "    j array: the j for m[i] as above\n",
    "    n.b. j is not needed, it can be recalculated from m\n",
    "    \"\"\"\n",
    "    n = len(a)\n",
    "    m = [0]*n\n",
    "    j = [0]*n\n",
    "    m[0] = a[0]\n",
    "    m[i] = max(sum(a[j:i+1]))\n",
    "    # LI established - m and j correct up to including i=0\n",
    "    for i in range(1,n):\n",
    "        for j in range (i,n):\n",
    "            return (i,j)\n",
    "        \n",
    "\n",
    "    v = max(m)\n",
    "    k = m.index(v)\n",
    "    return (v,j[k],k+1)\n",
    "    \n",
    "    \n",
    "def test_max_interval(n):\n",
    "    test = [i+1 for i in range(n)]\n",
    "    ans = (n*(n+1)/2,0,n)\n",
    "    print(ans)\n",
    "    if ans == max_interval(test):\n",
    "        print(\"correct!\")\n",
    "    else:\n",
    "        print(\"broken!\")\n",
    "        \n",
    "    m = n//2\n",
    "    x = max_interval([i+1 for i in range(m)])\n",
    "    test[m] = -x[0]-1\n",
    "    ans = (sum([i+1 for i in range(m+1,n)]),m+1,n)\n",
    "    if ans == max_interval(test):\n",
    "        print(\"correct!\")\n",
    "    else:\n",
    "        print(\"broken!\")\n",
    "\n",
    "def test_max_interval_dyn(n):\n",
    "    test = [i+1 for i in range(n)]\n",
    "    ans = (n*(n+1)/2,0,n)\n",
    "    if ans == max_interval_dyn(test):\n",
    "        print(\"correct!\")\n",
    "    else:\n",
    "        print(\"broken!\")\n",
    "        \n",
    "    m = n//2\n",
    "    x = max_interval([i+1 for i in range(m)])\n",
    "    test[m] = -x[0]-1\n",
    "    ans = (sum([i+1 for i in range(m+1,n)]),m+1,n)\n",
    "    if ans == max_interval_dyn(test):\n",
    "        print(\"correct!\")\n",
    "    else:\n",
    "        print(\"broken!\")\n",
    "    \n",
    "    test = [i+1 for i in range(n)]\n",
    "    test[::2] = test[n//2::]\n",
    "    for i in range(0,n,2):\n",
    "        test[i] = test[i]-n\n",
    "    ans = max_interval(test)\n",
    "    if ans == max_interval_dyn(test):\n",
    "        print(ans)\n",
    "        print(\"correct!\")\n",
    "    else:\n",
    "        print(\"broken!\")\n",
    "    \n",
    "#for n in [6,15,50,201]:\n",
    "#    max_interval(n)\n",
    "\n",
    "#did_dynamic = False\n",
    "#if did_dynamic:\n",
    "#    for n in [6,15,50,201]: test_max_interval_dyn(n)"
   ]
  },
  {
   "cell_type": "code",
   "execution_count": 148,
   "id": "f49a8cfb",
   "metadata": {},
   "outputs": [
    {
     "name": "stdout",
     "output_type": "stream",
     "text": [
      "0 0 1\n",
      "0 1 3\n",
      "0 2 6\n",
      "1 1 2\n",
      "1 2 5\n",
      "2 2 3\n"
     ]
    },
    {
     "data": {
      "text/plain": [
       "3"
      ]
     },
     "execution_count": 148,
     "metadata": {},
     "output_type": "execute_result"
    }
   ],
   "source": [
    "max_interval([1,2,3])"
   ]
  },
  {
   "cell_type": "code",
   "execution_count": 149,
   "id": "e5084473",
   "metadata": {},
   "outputs": [],
   "source": [
    "import numpy as np\n"
   ]
  },
  {
   "cell_type": "code",
   "execution_count": 152,
   "id": "284e2317",
   "metadata": {},
   "outputs": [
    {
     "data": {
      "text/plain": [
       "numpy.ndarray"
      ]
     },
     "execution_count": 152,
     "metadata": {},
     "output_type": "execute_result"
    }
   ],
   "source": [
    "type(np.zeros(12))"
   ]
  },
  {
   "cell_type": "code",
   "execution_count": 153,
   "id": "028a519f",
   "metadata": {},
   "outputs": [
    {
     "name": "stdout",
     "output_type": "stream",
     "text": [
      "[ 0.  1.  2.  3.  4.  5.  6.  7.  8.  9. 10. 11.]\n"
     ]
    }
   ],
   "source": [
    "x_list = [i for i in range(12)]\n",
    "x = np.array(x_list, dtype=np.float64)\n",
    "print(x)"
   ]
  },
  {
   "cell_type": "code",
   "execution_count": 154,
   "id": "084e37f6",
   "metadata": {},
   "outputs": [
    {
     "name": "stdout",
     "output_type": "stream",
     "text": [
      "{0.5, 1.0, 0.2, 0.3333333333333333, 0.25, 0.16666666666666666, 0.14285714285714285, 0.125, 0.1111111111111111, 0.1, 0.09090909090909091, 0.08333333333333333}\n"
     ]
    }
   ],
   "source": [
    "y = np.array({1/i for i in range(1,13)})\n",
    "print(y)"
   ]
  }
 ],
 "metadata": {
  "kernelspec": {
   "display_name": "Python 3 (ipykernel)",
   "language": "python",
   "name": "python3"
  },
  "language_info": {
   "codemirror_mode": {
    "name": "ipython",
    "version": 3
   },
   "file_extension": ".py",
   "mimetype": "text/x-python",
   "name": "python",
   "nbconvert_exporter": "python",
   "pygments_lexer": "ipython3",
   "version": "3.9.12"
  }
 },
 "nbformat": 4,
 "nbformat_minor": 5
}
